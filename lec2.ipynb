{
  "nbformat": 4,
  "nbformat_minor": 0,
  "metadata": {
    "colab": {
      "provenance": [],
      "authorship_tag": "ABX9TyNXvrMUafiYO/cO8BWy67Gf",
      "include_colab_link": true
    },
    "kernelspec": {
      "name": "python3",
      "display_name": "Python 3"
    },
    "language_info": {
      "name": "python"
    }
  },
  "cells": [
    {
      "cell_type": "markdown",
      "metadata": {
        "id": "view-in-github",
        "colab_type": "text"
      },
      "source": [
        "<a href=\"https://colab.research.google.com/github/Jave-dAli/BeautifulProjects/blob/main/lec2.ipynb\" target=\"_parent\"><img src=\"https://colab.research.google.com/assets/colab-badge.svg\" alt=\"Open In Colab\"/></a>"
      ]
    },
    {
      "cell_type": "code",
      "source": [
        "text = ['one', 'two']"
      ],
      "metadata": {
        "colab": {
          "base_uri": "https://localhost:8080/"
        },
        "id": "HIJOMX3Qsbs0",
        "outputId": "c42e0f3b-3854-4803-a26f-6cd5df6f5f3a"
      },
      "execution_count": 21,
      "outputs": [
        {
          "output_type": "stream",
          "name": "stdout",
          "text": [
            "<class 'dict'>\n"
          ]
        }
      ]
    },
    {
      "cell_type": "code",
      "execution_count": 16,
      "metadata": {
        "colab": {
          "base_uri": "https://localhost:8080/"
        },
        "id": "wMRR-rXteEMO",
        "outputId": "c731005a-4d9b-45b9-d061-54dfedfab379"
      },
      "outputs": [
        {
          "output_type": "stream",
          "name": "stdout",
          "text": [
            "5\n",
            "{1, 2, 3, 4, 5, 6, 7, 8, 9, 10}\n"
          ]
        }
      ],
      "source": [
        "def fun():\n",
        "  set1 = {1, 2, 3, 4, 5}\n",
        "  list_to_add = [6, 7, 8, 9, 10]\n",
        "  set1.update(list_to_add)\n",
        "  print(set1)\n",
        "\n",
        "\n",
        "fun()\n",
        "\n",
        "\n"
      ]
    },
    {
      "cell_type": "markdown",
      "source": [
        "**Tasks**\n",
        "\n",
        "---\n",
        "\n"
      ],
      "metadata": {
        "id": "K5fAfmVvmOKw"
      }
    },
    {
      "cell_type": "code",
      "source": [
        "# 9.\tWrite a program to print the first 10 natural numbers.\n",
        "def print_nat(n):\n",
        "  for i in range(1, n+1):\n",
        "    print(i)\n",
        "\n",
        "# 10.\tWrite a program to calculate the sum of numbers from 1 to n, where n is entered by the user.\n",
        "def sum_uptop_n(n):\n",
        "  sum = 0\n",
        "  for i in range(1, n+1):\n",
        "    sum += i\n",
        "  return sum\n",
        "\n",
        "# 11.\tWrite a program to display the multiplication table of a number entered by the user.\n",
        "def table(n):\n",
        "  for i in range(1, 11):\n",
        "    print(\"{} x {} = {}\".format(n, i, n*i))\n",
        "\n"
      ],
      "metadata": {
        "id": "Jr8mvGWbmPoP"
      },
      "execution_count": null,
      "outputs": []
    },
    {
      "cell_type": "code",
      "source": [
        "students = {\n",
        "    \"Javed\": 85,\n",
        "    \"Sheeraz\": 92,\n",
        "    \"Aftab\": 78,\n",
        "    \"Hassan Raza\": 88,\n",
        "    \"Ismail\": 95\n",
        "}\n",
        "\n",
        "\n",
        "print(students)\n",
        "\n",
        "\n",
        "for key, value in students.items():\n",
        "  print(f\"Name: {key}, Marks: {value}\")"
      ],
      "metadata": {
        "colab": {
          "base_uri": "https://localhost:8080/"
        },
        "id": "I5GWswSlmU0g",
        "outputId": "d7ea44e1-e98f-41dd-86f6-8cc0414e411c"
      },
      "execution_count": 23,
      "outputs": [
        {
          "output_type": "stream",
          "name": "stdout",
          "text": [
            "{'Javed': 85, 'Sheeraz': 92, 'Aftab': 78, 'Hassan Raza': 88, 'Ismail': 95}\n",
            "Name: Javed, Marks: 85\n",
            "Name: Sheeraz, Marks: 92\n",
            "Name: Aftab, Marks: 78\n",
            "Name: Hassan Raza, Marks: 88\n",
            "Name: Ismail, Marks: 95\n"
          ]
        }
      ]
    }
  ]
}